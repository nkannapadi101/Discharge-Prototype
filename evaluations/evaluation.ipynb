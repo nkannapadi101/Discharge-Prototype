{
 "cells": [
  {
   "cell_type": "code",
   "execution_count": 136,
   "metadata": {},
   "outputs": [],
   "source": [
    "import json\n",
    "import re\n",
    "import logging\n",
    "import os\n",
    "import openai\n",
    "import pandas as pd \n",
    "\n",
    "from openai import OpenAI\n",
    "from dotenv import load_dotenv\n"
   ]
  },
  {
   "cell_type": "markdown",
   "metadata": {},
   "source": [
    "# Configuration\n"
   ]
  },
  {
   "cell_type": "code",
   "execution_count": 26,
   "metadata": {},
   "outputs": [
    {
     "name": "stdout",
     "output_type": "stream",
     "text": [
      "Requirement already satisfied: python-dotenv in c:\\users\\nkann\\anaconda3\\lib\\site-packages (0.21.0)\n"
     ]
    }
   ],
   "source": [
    "!pip install python-dotenv"
   ]
  },
  {
   "cell_type": "code",
   "execution_count": 61,
   "metadata": {},
   "outputs": [],
   "source": [
    "credentials_path = 'credentials_nk.json'\n",
    "\n",
    "with open(credentials_path, 'r') as file:\n",
    "    credentials = json.load(file)\n",
    "\n",
    "    \n",
    "openai_api_key = credentials['openai_api_key']\n",
    "base_url = credentials['base_url']\n",
    "\n",
    "client = OpenAI(api_key=openai_api_key)\n",
    "\n",
    "\n",
    "\n",
    "\n",
    "\n"
   ]
  },
  {
   "cell_type": "code",
   "execution_count": 400,
   "metadata": {},
   "outputs": [
    {
     "data": {
      "text/plain": [
       "('Patient # 4',\n",
       " 'baseline',\n",
       " {'Completeness': {'score': 4,\n",
       "   'explanation': \"The summary is mostly complete, detailing the patient's admission, diagnosis, treatment, and discharge instructions. It includes relevant details about symptoms, diagnostic findings, treatment approach, and follow-up care. However, it lacks information on any specific patient education provided at discharge or any lifestyle modifications recommended.\"},\n",
       "  'Coherence': {'score': 5,\n",
       "   'explanation': 'The summary is logically organized and follows a clear narrative flow from admission through treatment and discharge instructions. It is easy to understand and presents information in a structured manner.'},\n",
       "  'Adherence to Clinical Standards': {'score': 4,\n",
       "   'explanation': 'The summary uses appropriate medical terminology and follows a professional format. There is a slight issue with the use of abbreviations without initial definitions (e.g., CP for chest pain and SoB for shortness of breath), as they are not universally standardized abbreviations.'},\n",
       "  'Compassion': {'score': 3,\n",
       "   'explanation': \"While the summary is professional and polite, it is somewhat clinical in tone and lacks explicit expressions of empathy. The closing wishes are positive, but overall, the summary could benefit from language that more clearly reflects concern for the patient's well-being and emotional support.\"}})"
      ]
     },
     "execution_count": 400,
     "metadata": {},
     "output_type": "execute_result"
    }
   ],
   "source": [
    "def generate_evaluation(filepath: str):\n",
    "    data = clean_data(filepath)\n",
    "    user_prompt = f\"\"\"\\\n",
    "Please evaluate the following summary that the assistant generated based on the following criteria and rate each on a scale of 1 to 5, where:\n",
    "1 = Fails to meet basic standards, 2 = Imcomplete or unclear in multiple areas, 3 = Acceptable but has noticeable shortcomings, 4 = meeting expectations with minor issues, 5 = Exceeds expectations with no major flaws. If uncertain, do not give a score of 0. Choose the lowest score that applies.  \n",
    "The criteria are:\n",
    "1. **Completeness**: Does the summary cover all relevant aspects of the patient's condition, treatment, and follow-up care? Are there any important details missing?\n",
    "2. **Coherence**: Is the summary logically organized and easy to understand? Does it follow a clear narrative flow?\n",
    "3. **Adherence to Clinical Standards**: Does the summary meet professional medical standards in terms of language, format, and terminology? For example, does it use appropriate medical terminology and abbreviations correctly? \n",
    "4. **Compassion**: Does the summary convey empathy for the patient and reflect a caring attitude toward their recovery?\n",
    "\n",
    "After each criterion, please provide a rating (1-5) and a brief explanation of your reasoning for the score. \"Please return your response in JSON format with each criterion as a key, and the value as an object with 'score' and 'explanation'.\n",
    "\n",
    "\n",
    "\n",
    "This is the discharge summmary letter: \n",
    "{data}\n",
    "\"\"\"\n",
    "\n",
    "    \n",
    "    client = OpenAI(api_key=openai_api_key)\n",
    "    completion = client.chat.completions.create(\n",
    "        model=\"gpt-4o\",\n",
    "        messages=[\n",
    "            {\"role\": \"system\", \"content\": \"You are a medical expert who specializes in evaluating clinical summaries.\"},\n",
    "            {\"role\": \"user\", \"content\": user_prompt}\n",
    "        ],\n",
    "    )\n",
    "\n",
    "    response = completion.choices[0].message.content\n",
    "    \n",
    "\n",
    "    clean_response = response.replace(\"\\n\",\" \").replace(\"```json\", \"\").replace(\"```\", \"\").strip()\n",
    "    clean_response = re.sub(r\"\\s{2,}\",\"\", clean_response)\n",
    "\n",
    "    try:\n",
    "        data_dict = json.loads(clean_response)\n",
    "    except json.JSONDecodeError as e:\n",
    "        print(f\"JSON Error: {e}\")\n",
    "    \n",
    "      \n",
    "\n",
    "    logging.info(f'<data>\\n{filepath}\\n</data>')\n",
    "    #logging.info(f'<system>\\n{system_prompt}\\n</system>')\n",
    "    logging.info(f'<user>\\n{user_prompt}\\n</user>')\n",
    "    logging.info(f'<assistant>:\\n{response}\\n</assistant>')\n",
    "\n",
    "    patient_number = \"Patient #\" + \" \" +  filepath[5]\n",
    "\n",
    "    method = extract_method(filepath)\n",
    "\n",
    "    \n",
    "    return patient_number, method, data_dict\n",
    "\n",
    "\n",
    "def clean_data(filepath: str) -> dict:\n",
    "    with open(f'experiments/{filepath}', 'r') as file:\n",
    "        data = json.load(file)\n",
    "        letter = data['assistant']\n",
    "    return letter #only retrieving the summary\n",
    "\n",
    "def extract_method(string):\n",
    "    return string[7:-7]\n",
    "    # match = re.search(r\"(baseline|instruction|instruction_example)\", string)\n",
    "    # if match:\n",
    "    #     return match.group(0)\n",
    "    # else:\n",
    "    #     return None\n",
    "    \n",
    "generate_evaluation(filepath)\n"
   ]
  },
  {
   "cell_type": "markdown",
   "metadata": {},
   "source": [
    "# Evaluating through all the baseline experiments (20)"
   ]
  },
  {
   "cell_type": "code",
   "execution_count": 374,
   "metadata": {},
   "outputs": [
    {
     "data": {
      "text/plain": [
       "'i'"
      ]
     },
     "execution_count": 374,
     "metadata": {},
     "output_type": "execute_result"
    }
   ],
   "source": [
    "m"
   ]
  },
  {
   "cell_type": "code",
   "execution_count": 380,
   "metadata": {},
   "outputs": [
    {
     "name": "stdout",
     "output_type": "stream",
     "text": [
      "{'Completeness': {'score': 4, 'explanation': \"The summary covers the key aspects of the patient's condition, treatment, and follow-up care quite thoroughly. It discusses the diagnosis, initial presentation, treatment adjustments, and discharge instructions. However, more details about the patient's history, any underlying conditions, or potential risk factors for pneumonia could have been included for a higher score.\"}, 'Coherence': {'score': 5, 'explanation': \"The summary is logically organized and follows a clear narrative flow from admission to discharge. It is easy to understand, with well-structured sentences and a chronological presentation of the patient's hospital stay and treatment progression.\"}, 'Adherence to Clinical Standards': {'score': 5, 'explanation': 'The summary uses appropriate medical terminology and follows a professional format. Abbreviations and medical terms are used correctly, and clinical data is presented in a clear manner that meets professional standards.'}, 'Compassion': {'score': 4, 'explanation': 'The summary reflects a caring attitude, particularly in the closing paragraph where gratitude and well wishes are expressed. However, more empathy could be shown in addressing the patient directly within the summary regarding their feelings or emotional state during the recovery process.'}}\n",
      "{'Completeness': {'score': 5, 'explanation': \"The summary covers all relevant aspects of the patient's condition, including symptoms, diagnosis, treatment, and follow-up care. There are no important details missing regarding the patient's clinical course, medication adjustments, and discharge plans.\"}, 'Coherence': {'score': 4, 'explanation': 'The summary is well-organized and follows a logical narrative from admission to discharge. However, there is a slightly abrupt transition between the medical details and the compassionate closing remarks, which could be smoother.'}, 'Adherence to Clinical Standards': {'score': 5, 'explanation': 'The summary adheres to professional medical standards, using appropriate medical terminology and adhering to a clear format. The use of ICD-10 coding and correct dosages reflects adherence to clinical standards.'}, 'Compassion': {'score': 4, 'explanation': \"The summary conveys a caring attitude towards the patient's recovery, especially in the closing remarks. However, the tone throughout the medical details remains clinical and could benefit from more empathetic language integrated with the clinical outcomes.\"}}\n",
      "{'Completeness': {'score': 5, 'explanation': \"The summary thoroughly covers all relevant aspects of the patient's condition, treatment, and follow-up care. It includes the initial diagnosis, treatment details, the patient's response to treatment, and clear discharge instructions, ensuring no important details are missing.\"}, 'Coherence': {'score': 5, 'explanation': \"The summary is logically organized, with a clear and chronological narrative flow. It begins with the patient's admission, describes subsequent treatment and progress, and concludes with discharge instructions, making it easy to understand.\"}, 'Adherence to Clinical Standards': {'score': 5, 'explanation': 'The summary adheres to professional medical standards, using appropriate medical terminology and abbreviations correctly. It follows a clear format that is typical for clinical summaries, maintaining professionalism throughout.'}, 'Compassion': {'score': 4, 'explanation': \"While the summary is professional and informative, it could include slightly more empathy towards the patient's experience. The closing lines convey care, but earlier sections focus heavily on clinical details without expressing empathy or concern for the patient's wellbeing.\"}}\n",
      "{'Completeness': {'score': 5, 'explanation': \"The summary thoroughly covers the patient's condition, treatment, and follow-up care. It includes admission details, diagnostic tests, laboratory results, treatment adjustments, and discharge instructions without omitting any critical information.\"}, 'Coherence': {'score': 5, 'explanation': \"The summary is logically organized, following a clear and chronological narrative of the patient's treatment from admission to discharge. It is easy to understand and follows a structured format.\"}, 'Adherence to Clinical Standards': {'score': 5, 'explanation': 'The summary meets professional medical standards, using appropriate medical terminology and correct abbreviations. The format is consistent with clinical documentation practices.'}, 'Compassion': {'score': 4, 'explanation': \"The summary ends on a compassionate note, expressing well wishes for the patient's recovery. While it conveys a caring attitude, it could include more empathetic language throughout to further enhance this aspect.\"}}\n",
      "{'Completeness': {'score': 5, 'explanation': \"The summary comprehensively covers the patient's condition, treatment, and follow-up care. It includes specific details about the patient's symptoms, vital signs, diagnosis, treatment regimen, progression, and discharge instructions. No important details seem to be missing.\"}, 'Coherence': {'score': 5, 'explanation': \"The summary is logically organized and follows a clear narrative flow. It effectively communicates the progression of the patient's condition from admission to discharge, making it easy to understand the sequence of events and decisions made.\"}, 'Adherence to Clinical Standards': {'score': 5, 'explanation': 'The summary meets professional medical standards in terms of language, format, and terminology. Medical terms and abbreviations are used correctly, and the letter maintains a formal tone appropriate for a clinical document.'}, 'Compassion': {'score': 4, 'explanation': \"The summary conveys a professional and caring attitude towards the patient's recovery. While it includes empathetic language, such as wishing a smooth recovery, it could enhance compassion by including a more personalized message regarding the patient's experience during their stay.\"}}\n",
      "{'Completeness': {'score': 4, 'explanation': \"The summary covers the patient's condition, treatment, and follow-up care well. It describes the initial symptoms, diagnosis, procedure, medication regimen, lifestyle changes, and follow-up plans. However, the summary could provide more specific details about any potential side effects of medications or warnings to look out for after discharge.\"}, 'Coherence': {'score': 5, 'explanation': 'The summary is logically organized and easy to follow. It presents information in a coherent manner, from the initial hospital admission through to discharge and follow-up instructions. The narrative flow is clear and descriptive.'}, 'Adherence to Clinical Standards': {'score': 5, 'explanation': 'The summary adheres to professional medical standards with correct use of medical terminology and abbreviations. The information is presented succinctly and appropriately, using standard medical language.'}, 'Compassion': {'score': 4, 'explanation': \"The summary shows compassion by emphasizing the importance of lifestyle changes and support systems for the patient's recovery. However, it could include more personalized expressions of empathy or encouragement to enhance the caring tone.\"}}\n",
      "{'Completeness': {'score': 5, 'explanation': \"The summary is thorough and addresses all relevant aspects of the patient's condition, treatment, and follow-up care. It includes admission details, diagnosis, immediate interventions, medication regimen, lifestyle recommendations, and follow-up appointments, leaving no significant information omitted.\"}, 'Coherence': {'score': 5, 'explanation': \"The summary is well-organized and maintains a clear, logical flow from the patient's admission to discharge. It is easy to follow and each section transitions smoothly into the next, ensuring that the narrative is straightforward and comprehensible.\"}, 'Adherence to Clinical Standards': {'score': 5, 'explanation': 'The summary uses appropriate medical terminology and abbreviations correctly. It adheres to professional standards in language, format, and terminology, presenting information in a manner consistent with clinical documentation requirements.'}, 'Compassion': {'score': 4, 'explanation': 'While the summary provides clear medical details and instructions, the tone is predominantly clinical. There is evidence of caring in the lifestyle recommendations and the emphasis on patient support systems, but additional expressions of empathy could enhance the compassionate aspect.'}}\n",
      "{'Completeness': {'score': 4, 'explanation': \"The summary is comprehensive, including details about the patient's condition, treatment, medication, laboratory findings, and follow-up care. However, it could be improved by including more specific discharge instructions and any potential side effects of the medications prescribed.\"}, 'Coherence': {'score': 5, 'explanation': 'The summary is well-organized and logically flows from initial presentation to discharge planning. It is easy to follow and maintains a clear narrative flow throughout.'}, 'Adherence to Clinical Standards': {'score': 5, 'explanation': 'Medical terminology and abbreviations are used appropriately and correctly. The format adheres to typical discharge summaries found in clinical settings, meeting professional standards.'}, 'Compassion': {'score': 4, 'explanation': \"The summary conveys a caring tone, with adequate expressions of empathy for the patient's recovery. Nonetheless, adding more personalized statements that directly acknowledge the patient's experience could further enhance the compassionate aspect.\"}}\n",
      "{'Completeness': {'score': 5, 'explanation': \"The summary is comprehensive, covering all critical aspects of the patient's condition, treatment received, and follow-up care. It mentions the initial presentation, diagnosis, interventions, medications, patient's progress, discharge status, and provides specific lifestyle and follow-up plans.\"}, 'Coherence': {'score': 5, 'explanation': 'The summary is well-organized and easy to follow. It presents information in a chronological manner from admission to discharge, using logical transitions to the patient’s ongoing care instructions, ensuring clarity and readability.'}, 'Adherence to Clinical Standards': {'score': 5, 'explanation': 'The summary utilizes appropriate medical terminology and abbreviations, such as STEMI, PCI, and ACE inhibitor, correctly. The format is professional and clear, aligning well with clinical standards for medical documentation.'}, 'Compassion': {'score': 4, 'explanation': 'The summary conveys professionalism and includes some elements of empathy, especially in wishing the patient a smooth recovery. However, it could include more personalized language or expressions of empathy to further humanize the interaction.'}}\n",
      "{'Completeness': {'score': 5, 'explanation': \"The summary is highly comprehensive, covering all relevant aspects of the patient's condition from admission through to discharge. It includes details of the initial diagnosis, treatment procedures, medication regimen, discharge condition, and follow-up care, ensuring no significant details are missing.\"}, 'Coherence': {'score': 5, 'explanation': \"The summary is logically organized and easy to understand, following a clear narrative flow that details the patient's journey from admission to discharge. It uses headings and timelines effectively, making it straightforward to follow.\"}, 'Adherence to Clinical Standards': {'score': 5, 'explanation': 'The summary meets professional medical standards in terms of language, format, and terminology. Appropriate medical terminology and abbreviations are used correctly throughout the document.'}, 'Compassion': {'score': 4, 'explanation': \"The summary conveys a compassionate tone, with well wishes for the patient's recovery and a reassuring message encouraging communication with healthcare providers for any concerns. However, it could include slightly more empathetic language or personalized notes addressing the patient's emotional wellbeing.\"}}\n",
      "{'Completeness': {'score': 4, 'explanation': \"The summary covers most relevant aspects of the patient's condition, including the initial presentation, test results, treatment, and follow-up care. It mentions the patient's neurological symptoms, treatment with Mannitol, and antihypertensive medications. It also details family discussions and ongoing care needs. However, more specific information regarding the type of stroke treatment or any rehabilitation plans could enhance the detail.\"}, 'Coherence': {'score': 5, 'explanation': \"The summary is logically organized, following a clear narrative flow from the patient's admission to discharge. Each section systematically outlines the sequence of medical evaluations, treatments, patient monitoring, and discharge instructions. It is easy to understand and well-structured.\"}, 'Adherence to Clinical Standards': {'score': 5, 'explanation': 'The summary meets professional medical standards in terms of language, format, and terminology. Appropriate medical terminology, such as GCS, CT scan, intracerebral hemorrhage, and INR, is correctly used. The document maintains a formal professional tone, appropriate for a clinical summary.'}, 'Compassion': {'score': 4, 'explanation': \"The summary conveys empathy toward the patient with expressions of care for their recovery and detailed instructions for continued care. Mentioning family discussions and expressing wishes for the patient's recovery adds a considerate touch. However, the inclusion of more personalized patient-centric language could enhance the compassionate tone.\"}}\n",
      "{'Completeness': {'score': 4, 'explanation': \"The summary provides a comprehensive overview of the patient's condition, including the initial presentation, diagnostic findings, treatment interventions, and hospital course. However, it lacks specific details about the exact date of discharge or any specific follow-up appointments or services arranged, which are important for continuity of care.\"}, 'Coherence': {'score': 5, 'explanation': 'The summary is logically organized and follows a clear narrative flow from admission to discharge considerations. It clearly describes the sequence of events and clinical decisions made, making it easy to understand.'}, 'Adherence to Clinical Standards': {'score': 5, 'explanation': 'The summary adheres to clinical standards in terms of language, format, and terminology. Medical abbreviations and terms such as GCS, CT scan, and INR are used correctly and appropriately. The format is professional and in line with typical discharge summaries.'}, 'Compassion': {'score': 3, 'explanation': \"While the summary wishes the patient a progressive recovery, it lacks a more personal touch or explicit expressions of empathy. The tone is clinical and could be improved by including more empathetic language or personalized statements addressing the patient's journey or emotional well-being.\"}}\n",
      "{'Completeness': {'score': 4, 'explanation': \"The summary provides a comprehensive overview of the patient's condition, diagnosis, treatment, and the discussions held with the family. However, details on specific outpatient follow-up plans or rehabilitation strategies post-discharge are not mentioned, which could be relevant for completeness.\"}, 'Coherence': {'score': 5, 'explanation': \"The summary is logically organized, detailing the timeline of events from admission through treatment to discharge plans. The narrative flow is clear and easy to follow, with chronological consistency in outlining the patient's condition.\"}, 'Adherence to Clinical Standards': {'score': 5, 'explanation': 'The summary adheres to clinical standards, using appropriate medical terminology, such as Glasgow Coma Scale, INR, and mannitol regimen. It is formatted in a professional manner suitable for a clinical setting.'}, 'Compassion': {'score': 3, 'explanation': \"While the summary addresses the patient's condition and communicates prognosis discussions with the family, it lacks empathetic language or expressions of care that could provide comfort or reassurance to the patient and their family.\"}}\n",
      "{'Completeness': {'score': 4, 'explanation': \"The summary covers the key aspects of the patient's condition, including the initial presentation, diagnosis, treatment, and condition upon discharge. However, it lacks specific details about the discharge plan, such as potential rehabilitation programs, or mention of any dietary or activity recommendations that might be pertinent for stroke recovery.\"}, 'Coherence': {'score': 5, 'explanation': \"The summary is logically structured and easy to follow, providing a clear and sequential narrative of the patient's hospital course. Each section builds on the previous one, contributing to an understanding of the patient's ongoing medical situation.\"}, 'Adherence to Clinical Standards': {'score': 5, 'explanation': \"The summary adheres to professional medical standards, using appropriate medical terminology such as 'hemorrhagic stroke', 'cerebral edema', 'antihypertensive medications', and 'Glasgow Coma Scale.' The format is concise and professional, with relevant abbreviations used correctly.\"}, 'Compassion': {'score': 3, 'explanation': \"While the summary is informative, it lacks a more personal tone that may convey empathy and reassurance. Phrases such as 'critical condition' could be softened with more compassionate language, and personal encouragement could be added to support the patient's emotional needs.\"}}\n",
      "{'Completeness': {'score': 4, 'explanation': \"The summary provides a thorough overview of the patient's initial condition, diagnosis, treatment, and discussions regarding the patient's prognosis with family. However, it could include more details on the follow-up plan or any specific rehabilitation efforts beyond monitoring and medication management.\"}, 'Coherence': {'score': 4, 'explanation': \"The summary is logically organized and easy to follow. It sequentially describes the patient's condition on admission, subsequent diagnostics, treatment, and discussions with the family. It could benefit from more explicit transitions between sections to enhance flow.\"}, 'Adherence to Clinical Standards': {'score': 5, 'explanation': 'The summary adheres to professional medical standards, using appropriate terminology and abbreviations. The format of the letter is suitable for a clinical setting and conveys the necessary details accurately.'}, 'Compassion': {'score': 4, 'explanation': 'The summary conveys empathy through expressions of care and concern, such as wishing the patient a safe recovery and noting discussions with the family. However, it could include more personalized touches or direct empathetic statements to enhance the tone further.'}}\n",
      "{'Completeness': {'score': 4, 'explanation': \"The summary is generally complete, covering the patient's initial condition, diagnosis of STEMI, treatment with the MONAC protocol, and the issue with arranging PCI. It also mentions the follow-up recommendations and the need for ongoing monitoring. However, it could include more specific details on post-discharge medication and lifestyle recommendations.\"}, 'Coherence': {'score': 4, 'explanation': 'The summary is logically organized and flows well from presentation, diagnosis, treatment, to discharge. However, the mention of logistical challenges in contacting the catheterization lab could be integrated more smoothly into the narrative.'}, 'Adherence to Clinical Standards': {'score': 5, 'explanation': 'The letter uses appropriate medical terminology and abbreviations correctly, such as STEMI, ECG, and the MONAC protocol. The language is consistent with professional medical standards.'}, 'Compassion': {'score': 3, 'explanation': \"While the summary provides clinical details effectively, it lacks a tone of empathy or reassurance. It focuses primarily on medical aspects and could benefit from a more compassionate tone regarding the patient's experience and future care.\"}}\n",
      "{'Completeness': {'score': 4, 'explanation': \"The summary includes most of the necessary details about the patient's condition, treatment received, and follow-up instructions. It covers the acute myocardial infarction, treatment protocol, and discharge instructions. However, details on the exact medication regimen at discharge are missing, and there's no mention of lifestyle advice or risk factor management, which are typically part of discharge planning for myocardial infarction.\"}, 'Coherence': {'score': 4, 'explanation': \"The summary is generally well-organized and follows a logical progression from admission to discharge. The narrative is clear, making it easy to understand the patient's journey through the hospital. Minor improvements could be made in further clarifying the sequence of events, particularly regarding the issues encountered with PCI and any subsequent changes to treatment.\"}, 'Adherence to Clinical Standards': {'score': 5, 'explanation': 'The summary uses appropriate medical terminology and abbreviations consistent with professional standards, such as ECG, STEMI, and PCI. The language is formal and suitable for medical correspondence, ensuring clarity for both healthcare providers and patients.'}, 'Compassion': {'score': 4, 'explanation': \"The summary conveys empathy and care, particularly through its closing remarks and emphasis on cooperation and smooth recovery. While it acknowledges the patient's discomfort and wishes, further expression of concern regarding the patient's ongoing recovery and emotional wellbeing could enhance the compassionate tone.\"}}\n",
      "{'Completeness': {'score': 4, 'explanation': \"The summary covers major aspects of the patient's admission, diagnosis, and discharge instructions well. It includes information on diagnosis (STEMI), treatment received (MONAC protocol), and instructions for follow-up care. However, it could include more detail on the timing and duration of treatment, reasons for discharge without PCI due to logistical challenges, and specific lifestyle modifications recommended.\"}, 'Coherence': {'score': 5, 'explanation': \"The summary is logically organized and follows a clear narrative flow from admission to discharge. It is easy to understand and provides a coherent recount of the patient's hospital journey and future care plan.\"}, 'Adherence to Clinical Standards': {'score': 4, 'explanation': 'The summary uses appropriate medical terminology and acronyms, such as STEMI and MONAC. However, it might benefit from defining less common terms, ensuring clarity for all readers. Overall, it meets professional standards.'}, 'Compassion': {'score': 4, 'explanation': 'The summary conveys a degree of empathy, particularly in the final statements wishing the patient recovery and inviting further contact for questions. It could be enhanced with more empathetic language throughout to reflect a more caring attitude.'}}\n",
      "{'Completeness': {'score': 4, 'explanation': \"The summary includes the patient's initial complaint, diagnosis, treatment protocol, and follow-up recommendations. However, it lacks some details such as the patient's demographic information, past medical history, and the final results of other relevant lab findings. More information on the follow-up care plan could enhance its completeness.\"}, 'Coherence': {'score': 5, 'explanation': 'The summary is logically organized and flows well from the initial presentation to treatment and discharge plans. The narrative is clear and easy to follow.'}, 'Adherence to Clinical Standards': {'score': 4, 'explanation': 'The summary generally adheres to professional medical standards with appropriate use of medical terminology and abbreviations. However, there is a minor inconsistency: PCA is stated instead of PCI. Additionally, specifying the units for Troponin T levels would add precision.'}, 'Compassion': {'score': 4, 'explanation': 'The summary conveys a caring attitude and wishes the patient a speedy recovery. However, the tone is largely clinical, with minimal expressions of empathy beyond the closing remarks.'}}\n",
      "{'Completeness': {'score': 3, 'explanation': \"The summary includes the patient's admission details, diagnostic findings, treatment administered, and discharge condition. However, it lacks details on the patient's follow-up medication regimen and specific instructions other than seeing their GP. Missing information on long-term management plans or lifestyle modifications could help enhance completeness.\"}, 'Coherence': {'score': 4, 'explanation': 'The clinical summary is logically organized with a clear narrative flow from admission to discharge. The sequence of events is easy to follow, although the phrasing about logistical issues might cause slight confusion in understanding the outcome of the intended percutaneous coronary intervention.'}, 'Adherence to Clinical Standards': {'score': 4, 'explanation': \"The summary uses appropriate medical terminology and codes, such as STEMI and the ICD-10 code. However, there is a slight inconsistency in referring to 'percutaneous coronary intervention' as 'PCA', which could be confused with 'patient-controlled analgesia'. A minor formatting issue involves using 'MONAC protocol' without explaining the acronym in this context.\"}, 'Compassion': {'score': 3, 'explanation': 'While the summary provides recommendations for follow-up and wishes the patient well at the end, it lacks empathetic language throughout the majority of the document. More consistent compassionate language could enhance the overall tone.'}}\n"
     ]
    }
   ],
   "source": [
    "os.makedirs('evaluations', exist_ok=True)\n",
    "# prompt_method= ['baseline', 'instruction', 'instruction_example']\n",
    "for i in range(1, 5):\n",
    "    for j in range (1, 6):\n",
    "\n",
    "        filepath = f'data_{i}_instruction_example_{j}.json'\n",
    "        patient_number, method, data_dict = generate_evaluation(filepath)\n",
    "\n",
    "        print(data_dict)\n",
    "\n",
    "\n",
    "        output = f'evaluations/data_{i}_instruction_example_{j}.json'\n",
    "        with open(output, 'w', encoding='utf-8') as json_file:\n",
    "                json.dump(data_dict, json_file, indent=4)\n",
    "        # filepath = f'data_{i}_baseline_{j}.json'\n",
    "        # patient_number, method, data_dict = generate_evaluation(filepath)\n",
    "\n",
    "        # print(data_dict)\n",
    "\n",
    "\n",
    "        # output = f'evaluations/data_{i}_{method}_{j}.json'\n",
    "        # with open(output, 'w', encoding='utf-8') as json_file:\n",
    "        #     json.dump(data_dict, json_file, indent=4)\n",
    "#mean and standard deviation for each method"
   ]
  },
  {
   "cell_type": "code",
   "execution_count": 381,
   "metadata": {},
   "outputs": [
    {
     "name": "stdout",
     "output_type": "stream",
     "text": [
      "{'Completeness': {'score': 4, 'explanation': \"The summary overall documents the patient's symptoms, diagnosis, treatment plan, response to therapy, and discharge instructions well. It includes detailed observations of clinical improvements and outlines the follow-up plan. However, it lacks details on the unspecified organism, which could be relevant if further investigation or notification to the patient is needed post-discharge.\"}, 'Coherence': {'score': 5, 'explanation': \"The summary is logically structured, following a clear timeline from admission through discharge. Each section flows naturally into the next, making it easy to follow the patient's progress and understand the medical decisions made. The narrative is easy to comprehend and professionally presented.\"}, 'Adherence to Clinical Standards': {'score': 5, 'explanation': 'The summary uses appropriate medical terminology and correctly follows the format expected in a discharge summary. Medical abbreviations are clear, and the summary includes necessary clinical metrics like CRP and WBC levels, aligning with professional standards.'}, 'Compassion': {'score': 4, 'explanation': \"The summary includes a friendly tone by wishing the patient well and inviting them to reach out with questions. However, while it maintains a professional tone, additional phrases directly expressing empathy for the patient's experience or addressing any potential concerns might enhance the compassionate aspect.\"}}\n",
      "{'Completeness': {'score': 5, 'explanation': \"The summary effectively covers all relevant aspects of the patient's condition, treatment, and follow-up care. It includes the initial symptoms, diagnostic process, treatment regimen, response to treatment, transition to oral medication, and discharge instructions, leaving no critical details unaddressed.\"}, 'Coherence': {'score': 5, 'explanation': 'The summary is logically organized and easy to understand, following a clear chronological narrative from admission through to discharge, and includes all pertinent information in a systematic manner.'}, 'Adherence to Clinical Standards': {'score': 5, 'explanation': 'Professional medical standards are maintained throughout the summary with correct use of medical terminology, accurate coding, and appropriate format. The explanation of diagnostic and treatment processes is clear, using correct medical language.'}, 'Compassion': {'score': 4, 'explanation': 'The summary conveys empathy with polite language and encouraging remarks, indicating a caring attitude. However, it could further benefit from additional personalization to enhance the compassionate aspect.'}}\n",
      "{'Completeness': {'score': 4, 'explanation': \"The summary thoroughly covers the patient's condition, treatment during hospitalization, and follow-up care instructions, including medication details. However, it lacks specific personalized concerns or patient-specific limitations that might affect discharge plans, which would provide a more comprehensive overview.\"}, 'Coherence': {'score': 5, 'explanation': \"The summary is logically organized, detailing the progression from admission through discharge. It presents information in a clear and sequential manner, making it easy to follow the patient's journey and understand the treatment provided.\"}, 'Adherence to Clinical Standards': {'score': 5, 'explanation': 'The summary adheres to professional standards with appropriate medical terminology, correct use of ICD-10 coding, and consistent formatting. Medical terms and abbreviations are used accurately, reflecting a high level of adherence to clinical documentation standards.'}, 'Compassion': {'score': 4, 'explanation': 'While the letter is professional and indicates appreciation and assurance, it could have incorporated more personalized empathetic language to enhance the caring tone, such as acknowledging the discomfort experienced during hospitalization or expressing a more personal concern for ongoing recovery.'}}\n",
      "{'Completeness': {'score': 4, 'explanation': \"The summary provides a comprehensive overview of the patient's hospitalization, including symptoms, diagnosis, treatment, and discharge instructions. However, it could include more specifics on follow-up care, such as any lifestyle recommendations or detailed information about the follow-up appointment beyond just the timeframe.\"}, 'Coherence': {'score': 5, 'explanation': 'The summary is well-organized and presents information in a logical sequence from admission to discharge. It is clear and easy to understand, following a coherent narrative flow.'}, 'Adherence to Clinical Standards': {'score': 5, 'explanation': 'The summary uses appropriate medical terminology and coding, and it adheres to medical standards in format and language, ensuring professionalism throughout the document.'}, 'Compassion': {'score': 4, 'explanation': \"The summary begins with a friendly salutation and ends with well-wishes for recovery, which conveys empathy. However, it could more explicitly acknowledge the patient's experience or express gratitude for their trust in the healthcare team to enhance the compassionate tone.\"}}\n",
      "{'Completeness': {'score': 5, 'explanation': \"The summary provides a comprehensive account of the patient's condition, diagnosis, treatment plan, and follow-up. It includes all relevant medical details, such as symptoms, diagnostic findings, treatment regimen, and discharge instructions. There are no significant omissions.\"}, 'Coherence': {'score': 5, 'explanation': 'The summary is logically organized, following a clear timeline from symptoms, diagnosis, treatment, and improvements through to discharge. It is easy to read and understand, maintaining a consistent narrative flow.'}, 'Adherence to Clinical Standards': {'score': 5, 'explanation': 'The summary uses appropriate medical terminology and abbreviations, aligning with professional standards. The use of ICD-10 code and detailed laboratory information reflects adherence to clinical norms.'}, 'Compassion': {'score': 4, 'explanation': \"The summary is professional and includes well-wishes for the patient's recovery, showing a reasonable degree of empathy. However, the language could be slightly more personalized to enhance the compassionate tone.\"}}\n",
      "{'Completeness': {'score': 5, 'explanation': \"The summary comprehensively covers the patient's condition, treatment during hospitalization, and detailed follow-up care instructions, including medications, lifestyle changes, and scheduled follow-up appointments. There are no notable omissions of important details.\"}, 'Coherence': {'score': 5, 'explanation': 'The summary is logically structured, starting with the initial presentation, diagnosis, treatment, and concluding with discharge instructions and follow-up arrangements. The narrative flow is clear and easy to follow.'}, 'Adherence to Clinical Standards': {'score': 5, 'explanation': \"The summary consistently uses appropriate medical terminology and abbreviations correctly. The format aligns with professional medical communication standards, presenting a clear and informative explanation of the patient's care.\"}, 'Compassion': {'score': 4, 'explanation': \"While the summary includes supportive language regarding the patient's ongoing recovery and offers advice on lifestyle changes, the tone could be slightly more empathetic. Small additions, such as personal encouragement or acknowledgment of the patient's experience, could enhance the compassionate tone.\"}}\n",
      "{'Completeness': {'score': 5, 'explanation': \"The discharge summary covers all relevant aspects of the patient's condition, treatment, and follow-up care. It includes details about the admission diagnosis, intervention, medication, recovery, lifestyle recommendations, and follow-up appointments. There are no noticeable omissions or missing details.\"}, 'Coherence': {'score': 5, 'explanation': \"The summary is logically organized and easy to understand. It follows a clear narrative flow, beginning with the admission details, treatment interventions, recovery progress, and finally discharge instructions. Each part of the patient's journey is described in a coherent manner.\"}, 'Adherence to Clinical Standards': {'score': 5, 'explanation': 'The summary meets professional medical standards in terms of language, format, and terminology. It uses appropriate medical terminology and correctly employs abbreviations such as STEMI and PCI. The format is professional and consistent with standard medical discharge summaries.'}, 'Compassion': {'score': 4, 'explanation': \"The summary reflects a caring attitude, offering encouragement for the patient's recovery and emphasizing their well-being as a priority. However, the language, while empathetic, could be slightly more personalized to further enhance the compassionate tone.\"}}\n",
      "{'Completeness': {'score': 5, 'explanation': \"The summary thoroughly covers the patient's condition, treatment details, including the specific diagnosis and intervention, and provides a comprehensive follow-up care plan. All relevant aspects of the patient's hospital stay and discharge care are covered without any important omissions.\"}, 'Coherence': {'score': 5, 'explanation': \"The summary is well-organized and logically structured, presenting information in a clear and understandable format. It follows a chronological order, making it easy to follow the patient's journey from admission to discharge.\"}, 'Adherence to Clinical Standards': {'score': 5, 'explanation': 'The document adheres to professional medical standards, using appropriate medical terminology and standard abbreviations correctly. It maintains a formal tone appropriate for medical documentation.'}, 'Compassion': {'score': 4, 'explanation': 'The summary conveys care and provides reassurance to the patient, emphasizing cooperation during the hospital stay and offering support options for smoking cessation. However, the tone could be slightly more empathetic with more personalized encouragement for recovery.'}}\n",
      "{'Completeness': {'score': 5, 'explanation': \"The summary thoroughly covers the patient's condition, including the initial symptoms, diagnosis, treatment interventions, medication regimen, follow-up care, and lifestyle recommendations. No significant details appear to be missing regarding the patient's hospital stay, treatment, or discharge instructions.\"}, 'Coherence': {'score': 5, 'explanation': \"The summary is logically organized and follows a clear narrative flow, starting from the admission details to the diagnosis, treatment, monitoring, discharge instructions, and follow-up care. The use of paragraphs and sequence of information aids in the reader's understanding, making the document easy to read and follow.\"}, 'Adherence to Clinical Standards': {'score': 5, 'explanation': 'The summary adheres to professional medical standards with correct use of terminology and format. Medical abbreviations such as ECG, STEMI, and PCI are used appropriately, and there is clear communication of medical procedures and medications following accepted guidelines.'}, 'Compassion': {'score': 4, 'explanation': \"The summary reflects a caring attitude through personalized advice and encouraging statements for the patient's recovery. However, the tone remains largely clinical and could incorporate more expressions of empathy to enhance the sense of understanding and support for the patient's situation.\"}}\n",
      "{'Completeness': {'score': 5, 'explanation': \"The summary thoroughly covers the patient's condition, including the initial symptoms, diagnosis, treatment (PCI and medication), and follow-up care. It provides a clear overview of the medication regimen and lifestyle modifications recommended for recovery. All relevant aspects appear to be addressed comprehensively.\"}, 'Coherence': {'score': 5, 'explanation': 'The summary is logically organized, starting with the admission details, diagnosis, treatment, hospital course, discharge plans, and follow-up care. The narrative flow is clear, making it easy for the patient and healthcare providers to understand the progression and management of the condition.'}, 'Adherence to Clinical Standards': {'score': 5, 'explanation': \"The summary uses correct medical terminology, such as 'acute transmural myocardial infarction' and 'Percutaneous Coronary Intervention (PCI).' Medication names and dosages are specified accurately. The format and language are appropriate for a professional medical document.\"}, 'Compassion': {'score': 4, 'explanation': \"The letter conveys empathy through the initial well wishes and closing remarks. While it reflects a caring attitude and provides encouragement for the patient's recovery, it could benefit from more personalized expressions of empathy throughout the main body of the summary.\"}}\n",
      "{'Completeness': {'score': 4, 'explanation': \"The summary covers major aspects of the patient's condition, including the initial event, diagnostic findings, and treatment plan. It mentions the CT scan results, laboratory tests, the medications used, and safety precautions. Follow-up care and recommendations are also included. However, it could be more comprehensive by detailing any specific plans for physical therapy or additional rehabilitation needs due to right-sided weakness.\"}, 'Coherence': {'score': 5, 'explanation': 'The summary is well-organized and follows a clear narrative flow. It presents information in a logical sequence, starting from the reason for hospital admission, findings, treatment, and follow-up care, which makes it easy to understand.'}, 'Adherence to Clinical Standards': {'score': 5, 'explanation': \"The summary adheres well to clinical standards, using appropriate medical terminology and abbreviations correctly, such as 'Glasgow Coma Scale (GCS)', and 'International Normalized Ratio (INR)'. The language and format are consistent with professional medical communication.\"}, 'Compassion': {'score': 3, 'explanation': \"While the summary is professional and courteous, it lacks more distinct expressions of empathy. It includes standard phrases expressing goodwill, but a more personalized acknowledgment of the patient's experience or challenges could enhance the feeling of compassion.\"}}\n",
      "{'Completeness': {'score': 4, 'explanation': \"The summary provides a detailed account of the patient's condition, treatment, and immediate hospital course, covering major aspects like the initial diagnosis, treatment plan, and monitoring needs. However, it lacks specific discharge instructions, such as home care advice or details of potential rehabilitation services, which are crucial for a comprehensive discharge summary.\"}, 'Coherence': {'score': 5, 'explanation': \"The summary is logically structured and follows a clear narrative from admission through to the patient's condition at discharge. Each section flows well into the next, making it easy to follow and understand the patient's journey and the medical reasoning for treatment decisions.\"}, 'Adherence to Clinical Standards': {'score': 4, 'explanation': 'The summary uses appropriate medical terminology and adheres to clinical documentation standards, such as correct use of medical abbreviations and ICD codes. Minor improvements could include providing full names for some drugs or treatments at first mention to ensure clarity for all readers, potentially including non-medical stakeholders.'}, 'Compassion': {'score': 3, 'explanation': 'While the summary is professionally written, it lacks explicit expressions of empathy or a personal touch that can reassure the patient and family about care and recovery. Including more patient-centered language and emphasis on support and hope for recovery could enhance the compassionate aspect.'}}\n",
      "{'Completeness': {'score': 4, 'explanation': \"The summary covers most relevant aspects such as the patient's condition, treatment interventions, and follow-up care. However, it lacks specific details on the doses of antihypertensive medications and could provide more information on the rehabilitation plan.\"}, 'Coherence': {'score': 5, 'explanation': \"The summary is well-organized and follows a logical narrative flow, from admission through the treatment steps and discharge plan. It's clear and easy to follow.\"}, 'Adherence to Clinical Standards': {'score': 5, 'explanation': 'The summary uses appropriate medical terminology and abbreviations, such as Glasgow Coma Scale and INR. The language is professional and meets clinical standards.'}, 'Compassion': {'score': 4, 'explanation': \"The summary reflects a caring attitude by acknowledging family discussions and offering home healthcare support. However, it could have included a more explicit expression of empathy regarding the patient's challenging situation.\"}}\n",
      "{'Completeness': {'score': 4, 'explanation': \"The summary is thorough, covering the patient's condition, treatment, and initial follow-up care suggestions. It includes details about the incident leading to admission, diagnostic findings, treatment regimen, and prognosis discussions with the family. However, it lacks specific information on the expected timeline for stabilization or a follow-up appointment schedule after discharge.\"}, 'Coherence': {'score': 5, 'explanation': 'The summary is well-organized and logically structured, following a clear narrative from admission through diagnosis, treatment, and discharge plans. The information flows naturally and is easy to follow.'}, 'Adherence to Clinical Standards': {'score': 5, 'explanation': 'The summary effectively uses appropriate medical terminology and standard abbreviations, such as GCS and INR, which are correctly applied. The language is professional and meets medical standards.'}, 'Compassion': {'score': 3, 'explanation': \"While the summary is factual and professional, it lacks a more personal touch. It could benefit from more empathetic language or expressions of understanding regarding the patient's emotional state and the challenges they may face in recovery.\"}}\n",
      "{'Completeness': {'score': 4, 'explanation': \"The summary is comprehensive, detailing the patient's admission, diagnosis, treatment, and discharge plan. It covers the patient's current condition, treatment with Mannitol and antihypertensives, and the importance of follow-up care. However, it could include more specifics about the follow-up care—such as specific appointments or additional therapies that might be recommended post-discharge.\"}, 'Coherence': {'score': 5, 'explanation': 'The summary is well-organized and flows logically from admission to discharge. Steps are discussed in chronological order, and the document is easy to follow with clear transitions between sections.'}, 'Adherence to Clinical Standards': {'score': 5, 'explanation': 'The summary uses correct medical terminology and abbreviations appropriately, such as GCS and INR. The format is professional, and the language is consistent with standard medical communications.'}, 'Compassion': {'score': 4, 'explanation': \"The letter starts and ends with compassionate statements, wishing the patient well and showing empathy. However, while appropriate, the summary is more clinical in tone throughout the middle sections and could be enhanced by more empathetic language regarding the patient's experience and challenges during the hospital stay.\"}}\n",
      "{'Completeness': {'score': 4, 'explanation': \"The summary covers the patient's condition, their treatment during the hospital stay, and recommendations for follow-up care adequately. However, it would benefit from including more details about the patient's medical history, specific medications given (doses and frequency), and the reason for the inability to complete PCI other than 'communication barriers.'\"}, 'Coherence': {'score': 4, 'explanation': \"The summary is logically organized and follows a clear narrative flow. It provides a straightforward account of the patient's hospital course, treatment, and discharge planning. Minor improvements could be made by elaborating on the exact nature of the treatment timeline and decision-making process.\"}, 'Adherence to Clinical Standards': {'score': 5, 'explanation': 'The summary appropriately uses medical terminology and references an ICD-10 code. It maintains a professional tone, and the use of abbreviations and medical terms seem consistent with clinical standards.'}, 'Compassion': {'score': 4, 'explanation': \"The letter conveys empathy through its tone and language, especially in wishing the patient a smooth recovery and continued health. However, it might be enhanced by including more personalized reassurance or acknowledgment of the patient's experience during their hospital stay.\"}}\n",
      "{'Completeness': {'score': 4, 'explanation': \"The summary comprehensively covers the patient's condition, treatment, and follow-up care. It includes details about admission, diagnosis, treatment administered, and discharge considerations. However, it could benefit from elaborating on the specific follow-up care plan and any lifestyle recommendations post-discharge.\"}, 'Coherence': {'score': 5, 'explanation': \"The summary is logically organized and follows a clear narrative flow. It chronologically documents the patient's admission, treatment process, and discharge, making it easy to understand.\"}, 'Adherence to Clinical Standards': {'score': 5, 'explanation': 'The summary utilizes appropriate medical terminology and abbreviations correctly, adhering to professional medical standards. It is formatted in a standard discharge summary structure, maintaining clarity and precision.'}, 'Compassion': {'score': 4, 'explanation': \"The summary conveys empathy by acknowledging the patient's condition and expressing a desire to ensure a smooth recovery. However, the language could be slightly more personalized to enhance the compassionate tone further.\"}}\n",
      "{'Completeness': {'score': 4, 'explanation': \"The summary provides a comprehensive view of the patient's condition, treatment, and advice for follow-up care. Most relevant aspects are covered, including symptoms, diagnostic findings, intervention protocols, and discharge advice. However, details about the future follow-up plan, such as specific dates or frequency of cardiology appointments, could enhance completeness.\"}, 'Coherence': {'score': 4, 'explanation': \"The summary is generally well-organized and follows a logical flow from admission to discharge. It describes the patient's journey through hospitalization with clear transitions between sections. A small improvement could be to explicitly mention the lack of angioplasty and the reasoning immediately after citing the diagnosis, to improve the flow of information.\"}, 'Adherence to Clinical Standards': {'score': 5, 'explanation': 'The summary uses appropriate medical terminology and formatting consistent with professional standards. Abbreviations are used correctly, and clinical protocols are clearly defined, indicating a high level of adherence to clinical standards.'}, 'Compassion': {'score': 3, 'explanation': \"While the summary is factual and polite, it could be more empathetic. Including more personalized statements or expressions of understanding towards the patient's experience could enhance the compassionate tone, making it reflect a more caring attitude towards the patient's recovery.\"}}\n",
      "{'Completeness': {'score': 4, 'explanation': \"The summary covers the key aspects of the patient's condition, including the initial diagnosis, treatment plan, and discharge instructions. However, some details such as the specifics of any medication prescribed at discharge and more detailed follow-up care instructions could be expanded upon.\"}, 'Coherence': {'score': 5, 'explanation': 'The summary is well-organized and presents information in a logical sequence. It is easy to understand and follows a clear narrative flow from admission through to discharge.'}, 'Adherence to Clinical Standards': {'score': 5, 'explanation': \"The summary uses appropriate medical terminology and abbreviations correctly, such as 'STEMI' and 'PCI'. The format adheres to professional standards for a discharge summary.\"}, 'Compassion': {'score': 4, 'explanation': 'The summary conveys empathy and a caring attitude, wishing the patient well and encouraging them to contact the clinical team with questions. It could be slightly improved with more personalized, empathetic language to further emphasize care and support.'}}\n",
      "{'Completeness': {'score': 5, 'explanation': \"The summary provides a comprehensive account of the patient's hospitalization, including the presentation of symptoms, diagnosis, treatments provided, and discharge instructions. All critical details about the condition, interventions, and follow-up care are well-documented.\"}, 'Coherence': {'score': 4, 'explanation': \"The summary is logically structured and follows a clear narrative, beginning with the patient's presentation at the hospital and concluding with discharge instructions. However, certain parts, like the unavailability of the cardiac catheterization lab, could be elaborated for clarity.\"}, 'Adherence to Clinical Standards': {'score': 5, 'explanation': 'The use of medical terminology and abbreviations is appropriate and consistent with clinical standards. The format is professional, and language is clear and precise.'}, 'Compassion': {'score': 4, 'explanation': \"The summary includes thoughtful expressions of empathy, such as wishing the patient well and encouraging them to reach out with questions. However, further personalization or acknowledgment of the patient's concerns could enhance the empathetic tone.\"}}\n"
     ]
    }
   ],
   "source": [
    "os.makedirs('evaluations', exist_ok=True)\n",
    "# prompt_method= ['baseline', 'instruction', 'instruction_example']\n",
    "for i in range(1, 5):\n",
    "    for j in range (1, 6):\n",
    "\n",
    "        filepath = f'data_{i}_instruction_{j}.json'\n",
    "        patient_number, method, data_dict = generate_evaluation(filepath)\n",
    "\n",
    "        print(data_dict)\n",
    "\n",
    "\n",
    "        output = f'evaluations/data_{i}_instruction_{j}.json'\n",
    "        with open(output, 'w', encoding='utf-8') as json_file:\n",
    "                json.dump(data_dict, json_file, indent=4)\n",
    "\n",
    "#mean and standard deviation for each method"
   ]
  },
  {
   "cell_type": "code",
   "execution_count": 382,
   "metadata": {},
   "outputs": [
    {
     "name": "stdout",
     "output_type": "stream",
     "text": [
      "{'Completeness': {'score': 4, 'explanation': \"The summary effectively covers the patient's condition, treatment, and follow-up care. However, it lacks specific details on the patient's past medical history, any allergies, or potential side effects of the prescribed medications, which could be important for comprehensive understanding.\"}, 'Coherence': {'score': 5, 'explanation': \"The summary is logically organized and easy to follow. It presents the information in a clear narrative flow from admission to discharge, detailing the patient's progress effectively.\"}, 'Adherence to Clinical Standards': {'score': 5, 'explanation': 'The summary uses appropriate medical terminology and adheres to professional standards. The language is precise, and medical abbreviations are used correctly, such as CRP and oxygen saturation levels.'}, 'Compassion': {'score': 4, 'explanation': \"The summary conveys a caring attitude toward the patient's recovery, particularly in the closing paragraphs. However, incorporating more empathetic language throughout could enhance the perceived empathy further.\"}}\n",
      "{'Completeness': {'score': 5, 'explanation': \"The summary comprehensively covers the patient's condition, treatment, and discharge instructions. It includes admission and discharge dates, vital signs, treatment details, and follow-up instructions. There are no significant omissions.\"}, 'Coherence': {'score': 5, 'explanation': 'The document follows a logical structure, beginning with admission details, followed by the hospital course, clinical improvements, discharge condition, and follow-up instructions. It is easy to understand and well-organized.'}, 'Adherence to Clinical Standards': {'score': 5, 'explanation': \"The summary employs appropriate medical terminology and abbreviations, accurately describing the patient's condition and treatment. Formatting is consistent with professional medical communication standards.\"}, 'Compassion': {'score': 4, 'explanation': \"The summary reflects a caring attitude by wishing the patient a 'swift and full recovery' and expressing availability for any concerns. However, it could be slightly more personalized in addressing the patient's emotional well-being.\"}}\n",
      "{'Completeness': {'score': 4, 'explanation': 'The summary covers key aspects, including the reason for admission, hospital course, treatment regimen, recovery, discharge instructions, and follow-up care. However, it lacks specific patient identifiers and could benefit from more detailed discharge instructions, such as lifestyle or dietary recommendations for recovery.'}, 'Coherence': {'score': 5, 'explanation': 'The summary is logically organized, beginning with the reason for admission and proceeding through the hospital course, treatment, and discharge information. It follows a clear narrative flow that is easy to understand.'}, 'Adherence to Clinical Standards': {'score': 5, 'explanation': \"The summary uses appropriate medical terminology and abbreviations correctly. It adheres to professional medical standards in language and format, providing clear information about the patient's treatment and condition.\"}, 'Compassion': {'score': 4, 'explanation': \"The summary expresses satisfaction with the patient's progress and offers instructions that show concern for the patient's continued well-being. However, the summary could be slightly enhanced by including more empathetic language regarding the patient's individual experience and recovery journey.\"}}\n",
      "{'Completeness': {'score': 5, 'explanation': \"The summary comprehensively covers the patient's condition, including symptoms, diagnosis, treatment during the hospital stay, response to treatment, and discharge instructions. All relevant aspects of the patient's care and follow-up instructions are included without omissions.\"}, 'Coherence': {'score': 5, 'explanation': 'The summary is well-organized and follows a clear logical flow, detailing the admission, clinical course, treatment adjustments, and discharge instructions in a sequential and easy-to-understand manner.'}, 'Adherence to Clinical Standards': {'score': 5, 'explanation': 'The summary adheres to professional medical standards, utilizing appropriate medical terminology and proper format. Diagnoses codes are included, and medical abbreviations and terminology are used correctly.'}, 'Compassion': {'score': 4, 'explanation': \"The summary reflects a caring attitude toward the patient's recovery and expresses well-wishes. However, while it is professional and respectful, the empathetic tone could be enhanced slightly with more personalized remarks specific to the patient's journey.\"}}\n",
      "{'Completeness': {'score': 4, 'explanation': \"The summary covers the primary aspects of the patient's condition, including symptoms, diagnosis, treatment (initial and changes), and discharge plan. However, it could be improved by including more detailed follow-up care instructions and potential signs of complications to watch out for after discharge.\"}, 'Coherence': {'score': 5, 'explanation': 'The summary is well organized and follows a logical narrative from admission through to discharge, making it easy to understand.'}, 'Adherence to Clinical Standards': {'score': 5, 'explanation': 'The summary uses appropriate medical terminology and correctly formats clinical data. The ICD and DRG codes are accurately used, demonstrating adherence to professional medical language standards.'}, 'Compassion': {'score': 3, 'explanation': \"The summary is factual and professional; however, it lacks expressive language that conveys empathy or a caring attitude toward the patient's recovery. To enhance compassion, it could include a short statement reflecting well wishes for the patient's continued recovery.\"}}\n",
      "{'Completeness': {'score': 4, 'explanation': \"The summary is quite comprehensive, covering the patient's condition, treatment, and follow-up care effectively. However, it lacks specific details such as the patient's baseline medical history, which could be relevant for a comprehensive assessment.\"}, 'Coherence': {'score': 5, 'explanation': 'The summary is logically organized and follows a clear narrative flow from admission to discharge. It presents the information in a structured and easy-to-understand manner.'}, 'Adherence to Clinical Standards': {'score': 5, 'explanation': 'The summary meets professional medical standards, using appropriate language, format, and medical terminology throughout. Abbreviations and terms like PCI, STEMI, and specific medications are correctly used.'}, 'Compassion': {'score': 5, 'explanation': \"The summary conveys empathy and a caring attitude, acknowledging the patient's challenging experience and expressing support for their recovery journey. It uses warm and reassuring language.\"}}\n",
      "{'Completeness': {'score': 5, 'explanation': \"The summary thoroughly covers the patient's condition, treatment, medications, and follow-up care. Important details such as symptoms, diagnosis, treatment steps, medication regimen, lifestyle recommendations, and follow-up appointments are included. There are no noticeable omissions.\"}, 'Coherence': {'score': 5, 'explanation': 'The summary is logically organized, with a clear structure beginning with the admission details, treatment details, recovery progress, discharge instructions, lifestyle recommendations, and follow-up care. It is easy to understand and follows a consistent narrative flow.'}, 'Adherence to Clinical Standards': {'score': 5, 'explanation': 'The summary uses appropriate medical terminology and abbreviations correctly, such as STEMI, PCI, and ECG. The format is professional, using standardized language for medical care and patient instructions.'}, 'Compassion': {'score': 4, 'explanation': \"The summary reflects a caring attitude by providing comprehensive information about lifestyle changes and encouraging adherence to heart health practices. However, it could benefit from a more personal touch, directly addressing the patient's feelings and concerns, to enhance the level of empathy.\"}}\n",
      "{'Completeness': {'score': 5, 'explanation': \"The summary provides a comprehensive account of the patient's condition, treatment, and follow-up care. It covers all necessary details, including the patient's symptoms, diagnosis, the intervention performed, medications prescribed, recommendations for lifestyle changes, and scheduled follow-up appointments.\"}, 'Coherence': {'score': 5, 'explanation': \"The summary is logically organized and easy to understand. It follows a clear narrative flow from the patient's symptoms and diagnosis through treatment, outcome, and discharge instructions. Each section transitions smoothly into the next, providing clarity and continuity.\"}, 'Adherence to Clinical Standards': {'score': 5, 'explanation': \"The summary adheres to professional medical standards. It uses appropriate medical terminology and abbreviations correctly, providing all necessary information regarding the patient's medical condition and treatment in a clear, professional format.\"}, 'Compassion': {'score': 5, 'explanation': 'The summary conveys empathy and a caring attitude toward the patient. It expresses wishes for a smooth recovery, emphasizes the importance of health and well-being, and encourages the patient to reach out with any questions or concerns, reflecting a compassionate approach.'}}\n",
      "{'Completeness': {'score': 5, 'explanation': \"The summary extensively covers all relevant aspects of the patient's condition, including admission details, diagnosis, treatment received, improvements during the hospital stay, medications prescribed, laboratory investigations, and follow-up care. There are no significant omissions.\"}, 'Coherence': {'score': 5, 'explanation': 'The summary is logically organized with a clear narrative flow. It begins with the admission details and diagnosis, continues through the treatment process and progress, and concludes with discharge instructions and follow-up care, making it easy to understand.'}, 'Adherence to Clinical Standards': {'score': 5, 'explanation': 'The summary adheres to professional medical standards, employing appropriate medical terminology and abbreviations correctly. It follows a standard discharge summary format, enhancing its clarity and professionalism.'}, 'Compassion': {'score': 4, 'explanation': 'While the summary provides comprehensive clinical information and emphasizes the importance of follow-up care, it could further enhance the empathetic tone by more explicitly acknowledging the emotional impact on the patient or offering additional supportive statements about the recovery process.'}}\n",
      "{'Completeness': {'score': 5, 'explanation': \"The summary thoroughly covers all relevant aspects of the patient's admission, including the diagnosis, treatment details, medication regimen, discharge instructions, and follow-up care. It does not omit any critical information necessary for understanding the patient's condition and future health management.\"}, 'Coherence': {'score': 5, 'explanation': \"The document is well-organized, following a clear and logical structure. The flow from admission details to treatment and discharge instructions is smooth, making it easy for the reader to comprehend the patient's journey and future care plan.\"}, 'Adherence to Clinical Standards': {'score': 5, 'explanation': 'The summary uses appropriate medical terminology and adheres to professional standards. The language is precise, and abbreviations are used correctly. Medical interventions, medications, and tests are detailed accurately according to clinical guidelines.'}, 'Compassion': {'score': 4, 'explanation': \"The summary conveys a caring attitude towards the patient's recovery, emphasizing the importance of lifestyle modifications and offering support options. However, the letter could slightly enhance its empathetic tone by including more personal touches or expressing understanding of the patient's experience.\"}}\n",
      "{'Completeness': {'score': 3, 'explanation': \"The summary provides a general overview of the patient's condition, treatment, and necessary follow-up care. However, it lacks specific details on the medication plan (such as dosages and any other prescribed drugs), and there's no detailed information about the support structure and services provided for at-home care, such as rehabilitation or nursing support. It also does not mention any symptoms or conditions to watch for that may necessitate immediate medical attention.\"}, 'Coherence': {'score': 4, 'explanation': \"The summary is logically organized and follows a clear narrative flow from admission through discharge. It effectively communicates the progression of the patient's condition and the care provided. Minor improvements could be made in linking the ongoing care needs with specific actions for clarity.\"}, 'Adherence to Clinical Standards': {'score': 4, 'explanation': 'The summary uses appropriate medical terminology and generally adheres to professional standards. However, it lacks some details that are typically important in discharge summaries, such as specific dosages and a detailed follow-up plan. The use of medical acronyms like GCS is appropriate but could benefit from expansion for clarity.'}, 'Compassion': {'score': 5, 'explanation': \"The summary conveys empathy and a caring attitude towards the patient, with warm wishes for recovery and emphasis on ensuring the patient's understanding of their care needs. The offer to assist with any questions or concerns further reflects compassion and support.\"}}\n",
      "{'Completeness': {'score': 4, 'explanation': \"The summary covers the patient's condition, treatment, and follow-up care thoroughly. It mentions the initial fall, diagnostic tests conducted, treatment plan, and ongoing care needs. However, it would be beneficial to include more specific follow-up instructions or referrals to specialists, which are currently missing.\"}, 'Coherence': {'score': 5, 'explanation': \"The summary is logically organized and easy to understand. It follows a clear narrative flow from admission to discharge, providing a coherent account of the patient's condition and hospital stay.\"}, 'Adherence to Clinical Standards': {'score': 5, 'explanation': 'The summary uses appropriate medical terminology and abbreviations, such as CBC, INR, CT scan, GCS, and Mannitol. It adheres to professional medical standards in language, format, and terminology.'}, 'Compassion': {'score': 5, 'explanation': \"The summary conveys empathy and a caring attitude towards the patient. It acknowledges the patient's anxieties and expresses a commitment to supporting their recovery, reflecting a compassionate approach.\"}}\n",
      "{'Completeness': {'score': 4, 'explanation': \"The summary provides a comprehensive account of the patient's condition, treatment, and follow-up care instructions. However, it could include more details about the patient's history or specific instructions for home care to be fully complete.\"}, 'Coherence': {'score': 5, 'explanation': 'The summary is logically organized, starting with the reason for hospital admission and going through diagnosis, treatment, and discharge plans in a clear narrative flow.'}, 'Adherence to Clinical Standards': {'score': 5, 'explanation': \"The summary uses appropriate medical terminology and follows professional standards in language and format. Terminology such as 'intracerebral hemorrhage' and 'Glasgow Coma Scale' are used correctly.\"}, 'Compassion': {'score': 4, 'explanation': \"While the summary expresses understanding of the patient's situation and offers support, it could be enhanced with more personalized empathetic language towards the patient and their emotional experience.\"}}\n",
      "{'Completeness': {'score': 3, 'explanation': \"The summary covers several relevant aspects of the patient's condition, such as the diagnosis, treatment, and safety protocols. However, it lacks details about the long-term follow-up care and specific patient instructions upon discharge, such as physical therapy recommendations or appointments with specialists, which are important in a comprehensive discharge summary.\"}, 'Coherence': {'score': 4, 'explanation': 'The summary is logically organized and follows a clear narrative flow from admission to treatment and updates on the patient’s condition. However, while the narrative makes sense, the flow could be slightly improved by more clearly delineating each section and its purpose.'}, 'Adherence to Clinical Standards': {'score': 5, 'explanation': 'The summary meets professional medical standards in terms of language, format, and terminology. It uses appropriate medical terms and abbreviations correctly, such as referencing the Glasgow Coma Scale, INR, and intracerebral hemorrhage.'}, 'Compassion': {'score': 3, 'explanation': 'The summary opens and closes with compassionate statements. However, the middle section, where clinical details are provided, is more factual and lacks a consistent tone of empathy. More personalized expressions of care throughout the document would enhance the compassionate tone.'}}\n",
      "{'Completeness': {'score': 3, 'explanation': \"The summary includes key information about the patient's condition, the treatment administered, and critical observations during the hospital stay. However, it lacks specific details on the names and dosages of antihypertensive medications, which would be important for full understanding. Additionally, follow-up care lacks specificity regarding appointment dates or further medical referrals, which are crucial for comprehensive discharge planning.\"}, 'Coherence': {'score': 4, 'explanation': 'The summary is logically organized, following a clear narrative from admission through to discharge planning. It is structured in a way that is easy to follow, starting with the initial condition, hospital interventions, patient progress, and ending with discharge instructions. Minor adjustments in transitioning between sections could enhance flow.'}, 'Adherence to Clinical Standards': {'score': 4, 'explanation': 'The summary uses appropriate medical terminology and abbreviations, such as GCS and INR, correctly. It maintains a professional tone and format consistent with medical documentation standards. A minor issue is the need for detailed medication regimens, which if included, would enhance adherence to clinical standards.'}, 'Compassion': {'score': 5, 'explanation': \"The summary conveys empathy and a caring attitude, emphasizing the commitment to the patient's recovery and openness to addressing concerns. The language is supportive and assures the patient of continued guidance, reflecting a compassionate approach.\"}}\n",
      "{'Completeness': {'score': 3, 'explanation': \"The summary provides a reasonable overview of the patient's condition and treatment during their hospital stay. However, it lacks specific information such as follow-up appointments, medication regimens, lifestyle modifications, or referrals to specialists, which are crucial for continuity of care. Important details about discharge instructions and monitoring protocols are not thoroughly elaborated.\"}, 'Coherence': {'score': 4, 'explanation': 'The summary is generally coherent and presents the information in a logical sequence. It outlines the timeline of events clearly, starting from admission to discharge. However, minor improvements could be made to enhance clarity, such as specifying the sequence of interventions more clearly and discussing any collaborative efforts to resolve the catheterization lab issue.'}, 'Adherence to Clinical Standards': {'score': 4, 'explanation': 'The summary adheres well to clinical standards by using appropriate medical terminology and abbreviations like STEMI and ECG. The treatment protocols followed are standard, and the language is professionally appropriate. However, the summary could be enhanced by providing more detailed medical advice or rationale for the chosen interventions and the discharge decision.'}, 'Compassion': {'score': 4, 'explanation': \"The summary reflects an empathetic tone by wishing the patient good health and encouraging them to monitor their condition closely. It conveys a caring attitude towards the patient's recovery. However, adding more personalized comments acknowledging the patient's experience and any hardships endured could further enhance this aspect.\"}}\n",
      "{'Completeness': {'score': 4, 'explanation': \"The summary is generally comprehensive, covering the patient's condition, treatment with MONAC, and the lack of PCI due to constraints. It mentions the need for follow-up and lifestyle changes. However, it lacks specific details about the follow-up plan and any discharge medications or restrictions, which would have improved completeness.\"}, 'Coherence': {'score': 5, 'explanation': 'The summary is logically organized and follows a clear narrative flow. It presents information sequentially from admission to discharge, making it easy to understand.'}, 'Adherence to Clinical Standards': {'score': 5, 'explanation': 'The summary uses appropriate medical terminology and abbreviations like STEMI and MONAC correctly, following professional standards. Language is formal and precise, suitable for a clinical document.'}, 'Compassion': {'score': 4, 'explanation': \"The summary conveys a caring attitude towards the patient's recovery, expressing good wishes and an invitation to seek further care if needed. However, it could have shown more empathy by acknowledging the challenges faced during hospitalization, like the inability to perform PCI.\"}}\n",
      "{'Completeness': {'score': 3, 'explanation': 'The summary adequately covers the time frame of the hospital stay, the condition (STEMI), initial diagnostic results, and treatment plan. However, it lacks detailed follow-up care instructions and information about any medications prescribed upon discharge or lifestyle changes, which are crucial for continuity of care after discharge for a condition like STEMI.'}, 'Coherence': {'score': 4, 'explanation': 'The summary is generally well-organized and follows a logical sequence from admission to discharge. Key events are ordered by date, allowing for clarity. However, more information about the resolution of the coordination issues with the catheterization lab would improve coherence.'}, 'Adherence to Clinical Standards': {'score': 4, 'explanation': 'Professional medical terminology is used appropriately, and the format is largely consistent with clinical standards. Recommendations are clear, although abbreviations like STEMI could potentially be confusing for patients and might benefit from a brief explanation.'}, 'Compassion': {'score': 3, 'explanation': 'While the summary includes a polite closing and wishes the patient well, it feels somewhat clinical in tone. More empathetic language could be used to emphasize support for the patient’s recovery and address any potential anxiety about the future after experiencing a serious condition like a myocardial infarction.'}}\n",
      "{'Completeness': {'score': 4, 'explanation': \"The summary provides a comprehensive account of the patient's hospital stay, including the initial symptoms, the diagnosis of STEMI, treatment provided, and discharge instructions. However, it lacks specific details about the patient's current medication regimen upon discharge, as well as any specific lifestyle or dietary recommendations.\"}, 'Coherence': {'score': 5, 'explanation': 'The summary is well-organized and follows a logical progression from admission to discharge. It clearly presents the sequence of events and medical decisions, making it easy to understand.'}, 'Adherence to Clinical Standards': {'score': 4, 'explanation': \"The summary generally adheres to professional medical standards, using appropriate medical terminology and abbreviations. However, it uses some vague language, such as 'local guidelines' and 'desire to be discharged,' which could be clarified for precision.\"}, 'Compassion': {'score': 3, 'explanation': \"While the summary expresses a wish for the patient's recovery at the end, it lacks empathetic language throughout the document. It would benefit from a more compassionate tone that acknowledges the patient's experience and concerns during the hospital stay.\"}}\n",
      "{'Completeness': {'score': 4, 'explanation': \"The summary provides an overview of the patient's condition, treatment, and recommendations for follow-up care. However, it lacks specific follow-up details, such as the date of the first cardiology appointment or additional lifestyle advice, which would ensure comprehensive discharge planning.\"}, 'Coherence': {'score': 5, 'explanation': 'The summary is logically structured, with a clear sequence from admission through treatment to discharge and follow-up recommendations. It is easy to understand, with each section following smoothly from the previous one.'}, 'Adherence to Clinical Standards': {'score': 4, 'explanation': \"The summary uses appropriate medical terminology and abbreviations, such as STEMI and PCI. It conveys the medical issues and procedures in a professional manner. However, some abbreviations (e.g., MONAC) and terms like 'bleep' might not be universally recognized, potentially causing confusion without further clarification.\"}, 'Compassion': {'score': 3, 'explanation': \"While the summary concludes with well-wishing, the tone throughout the document is clinical and lacks expressions of empathy or acknowledgment of the patient's emotional experience, which are essential components of compassionate communication.\"}}\n"
     ]
    }
   ],
   "source": [
    "os.makedirs('evaluations', exist_ok=True)\n",
    "# prompt_method= ['baseline', 'instruction', 'instruction_example']\n",
    "for i in range(1, 5):\n",
    "    for j in range (1, 6):\n",
    "\n",
    "        filepath = f'data_{i}_baseline_{j}.json'\n",
    "        patient_number, method, data_dict = generate_evaluation(filepath)\n",
    "\n",
    "        print(data_dict)\n",
    "\n",
    "\n",
    "        output = f'evaluations/data_{i}_baseline_{j}.json'\n",
    "        with open(output, 'w', encoding='utf-8') as json_file:\n",
    "                json.dump(data_dict, json_file, indent=4)\n",
    "\n",
    "#mean and standard deviation for each method"
   ]
  },
  {
   "cell_type": "code",
   "execution_count": 361,
   "metadata": {},
   "outputs": [
    {
     "data": {
      "text/plain": [
       "'c:\\\\Users\\\\nkann\\\\OneDrive\\\\Documents\\\\GitHub\\\\Discharge-Prototype'"
      ]
     },
     "execution_count": 361,
     "metadata": {},
     "output_type": "execute_result"
    }
   ],
   "source": [
    "os.getcwd()"
   ]
  },
  {
   "cell_type": "code",
   "execution_count": 384,
   "metadata": {},
   "outputs": [],
   "source": [
    "eval_files = [filename for filename in os.listdir('evaluations') if filename.endswith('.json')]"
   ]
  },
  {
   "cell_type": "code",
   "execution_count": 385,
   "metadata": {},
   "outputs": [
    {
     "data": {
      "text/plain": [
       "['data_1_baseline_1.json',\n",
       " 'data_1_baseline_2.json',\n",
       " 'data_1_baseline_3.json',\n",
       " 'data_1_baseline_4.json',\n",
       " 'data_1_baseline_5.json',\n",
       " 'data_1_instruction_1.json',\n",
       " 'data_1_instruction_2.json',\n",
       " 'data_1_instruction_3.json',\n",
       " 'data_1_instruction_4.json',\n",
       " 'data_1_instruction_5.json',\n",
       " 'data_1_instruction_example_1.json',\n",
       " 'data_1_instruction_example_2.json',\n",
       " 'data_1_instruction_example_3.json',\n",
       " 'data_1_instruction_example_4.json',\n",
       " 'data_1_instruction_example_5.json',\n",
       " 'data_2_baseline_1.json',\n",
       " 'data_2_baseline_2.json',\n",
       " 'data_2_baseline_3.json',\n",
       " 'data_2_baseline_4.json',\n",
       " 'data_2_baseline_5.json',\n",
       " 'data_2_instruction_1.json',\n",
       " 'data_2_instruction_2.json',\n",
       " 'data_2_instruction_3.json',\n",
       " 'data_2_instruction_4.json',\n",
       " 'data_2_instruction_5.json',\n",
       " 'data_2_instruction_example_1.json',\n",
       " 'data_2_instruction_example_2.json',\n",
       " 'data_2_instruction_example_3.json',\n",
       " 'data_2_instruction_example_4.json',\n",
       " 'data_2_instruction_example_5.json',\n",
       " 'data_3_baseline_1.json',\n",
       " 'data_3_baseline_2.json',\n",
       " 'data_3_baseline_3.json',\n",
       " 'data_3_baseline_4.json',\n",
       " 'data_3_baseline_5.json',\n",
       " 'data_3_instruction_1.json',\n",
       " 'data_3_instruction_2.json',\n",
       " 'data_3_instruction_3.json',\n",
       " 'data_3_instruction_4.json',\n",
       " 'data_3_instruction_5.json',\n",
       " 'data_3_instruction_example_1.json',\n",
       " 'data_3_instruction_example_2.json',\n",
       " 'data_3_instruction_example_3.json',\n",
       " 'data_3_instruction_example_4.json',\n",
       " 'data_3_instruction_example_5.json',\n",
       " 'data_4_baseline_1.json',\n",
       " 'data_4_baseline_2.json',\n",
       " 'data_4_baseline_3.json',\n",
       " 'data_4_baseline_4.json',\n",
       " 'data_4_baseline_5.json',\n",
       " 'data_4_instruction_1.json',\n",
       " 'data_4_instruction_2.json',\n",
       " 'data_4_instruction_3.json',\n",
       " 'data_4_instruction_4.json',\n",
       " 'data_4_instruction_5.json',\n",
       " 'data_4_instruction_example_1.json',\n",
       " 'data_4_instruction_example_2.json',\n",
       " 'data_4_instruction_example_3.json',\n",
       " 'data_4_instruction_example_4.json',\n",
       " 'data_4_instruction_example_5.json']"
      ]
     },
     "execution_count": 385,
     "metadata": {},
     "output_type": "execute_result"
    }
   ],
   "source": [
    "eval_files"
   ]
  },
  {
   "cell_type": "code",
   "execution_count": 401,
   "metadata": {},
   "outputs": [
    {
     "name": "stderr",
     "output_type": "stream",
     "text": [
      "<string>:3: SyntaxWarning: invalid escape sequence '\\{'\n",
      "<>:3: SyntaxWarning: invalid escape sequence '\\{'\n",
      "<string>:3: SyntaxWarning: invalid escape sequence '\\{'\n",
      "<>:3: SyntaxWarning: invalid escape sequence '\\{'\n",
      "C:\\Users\\nkann\\AppData\\Local\\Temp\\ipykernel_41940\\1914325224.py:3: SyntaxWarning: invalid escape sequence '\\{'\n",
      "  with open(f'evaluations\\{file}', 'r') as json_file:\n"
     ]
    }
   ],
   "source": [
    "evaluations = []\n",
    "for file in eval_files:\n",
    "    with open(f'evaluations\\{file}', 'r') as json_file:\n",
    "        data_dict = json.load(json_file)\n",
    "        patient_number = \"Patient #\" + \" \" +  file[5]\n",
    "        method = extract_method(file)\n",
    "\n",
    "        Completeness_score = int(data_dict.get('Completeness', {}).get('score')) \n",
    "        Coherence_score = int(data_dict.get('Coherence', {}).get('score')) \n",
    "        Ad_score = int(data_dict.get('Adherence to Clinical Standards', {}).get('score')) \n",
    "        # print(Adherence_score)\n",
    "        Compassion_score = int(data_dict.get('Compassion', {}).get('score')) \n",
    "\n",
    "        Total_score = Completeness_score + Coherence_score + Ad_score + Compassion_score\n",
    "\n",
    "              \n",
    "        evaluations.append((\n",
    "            patient_number, \n",
    "            method, \n",
    "            Completeness_score, \n",
    "            Coherence_score,\n",
    "            Ad_score,\n",
    "            Compassion_score, \n",
    "            Total_score ))\n",
    "\n",
    "\n",
    "df_b = pd.DataFrame(evaluations, columns=['Patient', 'Method' ,'Completeness Score', 'Coherence Score', 'Adherence to Clinical Standards Score', 'Compassion Score', 'Total Score'])\n",
    "df_b.dropna(subset=['Patient', 'Method'], inplace=True)"
   ]
  },
  {
   "cell_type": "code",
   "execution_count": 402,
   "metadata": {},
   "outputs": [],
   "source": [
    "df_b.to_csv('evaluations/evaluations.csv', index=False)"
   ]
  },
  {
   "cell_type": "code",
   "execution_count": 403,
   "metadata": {},
   "outputs": [
    {
     "data": {
      "text/html": [
       "<div>\n",
       "<style scoped>\n",
       "    .dataframe tbody tr th:only-of-type {\n",
       "        vertical-align: middle;\n",
       "    }\n",
       "\n",
       "    .dataframe tbody tr th {\n",
       "        vertical-align: top;\n",
       "    }\n",
       "\n",
       "    .dataframe thead tr th {\n",
       "        text-align: left;\n",
       "    }\n",
       "</style>\n",
       "<table border=\"1\" class=\"dataframe\">\n",
       "  <thead>\n",
       "    <tr>\n",
       "      <th></th>\n",
       "      <th>Method</th>\n",
       "      <th colspan=\"2\" halign=\"left\">Completeness Score</th>\n",
       "      <th colspan=\"2\" halign=\"left\">Coherence Score</th>\n",
       "      <th colspan=\"2\" halign=\"left\">Adherence to Clinical Standards Score</th>\n",
       "      <th colspan=\"2\" halign=\"left\">Compassion Score</th>\n",
       "      <th colspan=\"2\" halign=\"left\">Total Score</th>\n",
       "    </tr>\n",
       "    <tr>\n",
       "      <th></th>\n",
       "      <th></th>\n",
       "      <th>mean</th>\n",
       "      <th>std</th>\n",
       "      <th>mean</th>\n",
       "      <th>std</th>\n",
       "      <th>mean</th>\n",
       "      <th>std</th>\n",
       "      <th>mean</th>\n",
       "      <th>std</th>\n",
       "      <th>mean</th>\n",
       "      <th>std</th>\n",
       "    </tr>\n",
       "  </thead>\n",
       "  <tbody>\n",
       "    <tr>\n",
       "      <th>0</th>\n",
       "      <td>baseline</td>\n",
       "      <td>4.05</td>\n",
       "      <td>0.759155</td>\n",
       "      <td>4.75</td>\n",
       "      <td>0.444262</td>\n",
       "      <td>4.70</td>\n",
       "      <td>0.470162</td>\n",
       "      <td>4.00</td>\n",
       "      <td>0.725476</td>\n",
       "      <td>17.50</td>\n",
       "      <td>1.732051</td>\n",
       "    </tr>\n",
       "    <tr>\n",
       "      <th>1</th>\n",
       "      <td>instruction</td>\n",
       "      <td>4.40</td>\n",
       "      <td>0.502625</td>\n",
       "      <td>4.85</td>\n",
       "      <td>0.366348</td>\n",
       "      <td>4.95</td>\n",
       "      <td>0.223607</td>\n",
       "      <td>3.80</td>\n",
       "      <td>0.410391</td>\n",
       "      <td>18.00</td>\n",
       "      <td>0.973329</td>\n",
       "    </tr>\n",
       "    <tr>\n",
       "      <th>2</th>\n",
       "      <td>instruction_example</td>\n",
       "      <td>4.30</td>\n",
       "      <td>0.571241</td>\n",
       "      <td>4.75</td>\n",
       "      <td>0.444262</td>\n",
       "      <td>4.85</td>\n",
       "      <td>0.366348</td>\n",
       "      <td>3.75</td>\n",
       "      <td>0.444262</td>\n",
       "      <td>17.65</td>\n",
       "      <td>1.268028</td>\n",
       "    </tr>\n",
       "  </tbody>\n",
       "</table>\n",
       "</div>"
      ],
      "text/plain": [
       "                Method Completeness Score           Coherence Score            \\\n",
       "                                     mean       std            mean       std   \n",
       "0             baseline               4.05  0.759155            4.75  0.444262   \n",
       "1          instruction               4.40  0.502625            4.85  0.366348   \n",
       "2  instruction_example               4.30  0.571241            4.75  0.444262   \n",
       "\n",
       "  Adherence to Clinical Standards Score           Compassion Score            \\\n",
       "                                   mean       std             mean       std   \n",
       "0                                  4.70  0.470162             4.00  0.725476   \n",
       "1                                  4.95  0.223607             3.80  0.410391   \n",
       "2                                  4.85  0.366348             3.75  0.444262   \n",
       "\n",
       "  Total Score            \n",
       "         mean       std  \n",
       "0       17.50  1.732051  \n",
       "1       18.00  0.973329  \n",
       "2       17.65  1.268028  "
      ]
     },
     "execution_count": 403,
     "metadata": {},
     "output_type": "execute_result"
    }
   ],
   "source": [
    "df_b.drop(columns = ['Patient']).groupby('Method').agg(['mean', 'std']).reset_index()"
   ]
  },
  {
   "cell_type": "code",
   "execution_count": 404,
   "metadata": {},
   "outputs": [
    {
     "data": {
      "text/plain": [
       "Method\n",
       "baseline               20\n",
       "instruction            20\n",
       "instruction_example    20\n",
       "Name: count, dtype: int64"
      ]
     },
     "execution_count": 404,
     "metadata": {},
     "output_type": "execute_result"
    }
   ],
   "source": [
    "df_b['Method'].value_counts()"
   ]
  },
  {
   "cell_type": "markdown",
   "metadata": {},
   "source": [
    "# Evaluating through Instruction (20)"
   ]
  },
  {
   "cell_type": "code",
   "execution_count": 326,
   "metadata": {},
   "outputs": [
    {
     "name": "stdout",
     "output_type": "stream",
     "text": [
      "       Patient       Method  Completeness Score  Coherence Score  \\\n",
      "0  Patient # 1  instruction                   4                5   \n",
      "1  Patient # 1  instruction                   5                5   \n",
      "2  Patient # 1  instruction                   5                5   \n",
      "3  Patient # 1  instruction                   5                5   \n",
      "4  Patient # 1  instruction                   5                5   \n",
      "\n",
      "   Adherence to Clinical Standards Score  Compassion Score  Total Score  \n",
      "0                                      0                 4           13  \n",
      "1                                      0                 4           14  \n",
      "2                                      0                 4           14  \n",
      "3                                      0                 4           14  \n",
      "4                                      0                 4           14  \n"
     ]
    }
   ],
   "source": [
    "#os.makedirs('evaluations', exist_ok=True)\n",
    "evaluations = []\n",
    "for i in range(1, 5):\n",
    "    for j in range (1, 6):\n",
    "        filepath = f'data_{i}_instruction_{j}.json'\n",
    "        patient_number, method, data_dict = generate_evaluation(filepath)\n",
    "\n",
    "       \n",
    "        #output = f'evaluations/data_{i}_{method}_{j}.json'\n",
    "        #ith open(output, 'w', encoding='utf-8') as json_file:\n",
    "            #json.dump(data_dict, json_file, indent=4)\n",
    "\n",
    "        Completeness_score = int(data_dict.get('Completeness', {}).get('score', 0)) \n",
    "        Coherence_score = int(data_dict.get('Coherence', {}).get('score', 0)) \n",
    "        Adherence_score = int(data_dict.get('Adherence', {}).get('score', 0)) \n",
    "        Compassion_score = int(data_dict.get('Compassion', {}).get('score', 0))\n",
    "\n",
    "        Total_score = Completeness_score + Coherence_score + Adherence_score + Compassion_score\n",
    "\n",
    "        \n",
    "              \n",
    "        evaluations.append((\n",
    "            patient_number, \n",
    "            method, \n",
    "            Completeness_score, \n",
    "            Coherence_score,\n",
    "            Adherence_score,\n",
    "            Compassion_score, \n",
    "            Total_score ))\n",
    "        \n",
    "        \n",
    "\n",
    "\n",
    "df_i = pd.DataFrame(evaluations, columns=['Patient', 'Method' ,'Completeness Score', 'Coherence Score', 'Adherence to Clinical Standards Score', 'Compassion Score', 'Total Score'])\n",
    "df_i.dropna(subset=['Patient', 'Method'], inplace=True)\n",
    "\n",
    "print(df_i.head())\n"
   ]
  },
  {
   "cell_type": "code",
   "execution_count": 372,
   "metadata": {},
   "outputs": [
    {
     "data": {
      "text/plain": [
       "20"
      ]
     },
     "execution_count": 372,
     "metadata": {},
     "output_type": "execute_result"
    }
   ],
   "source": [
    "(df_i['Adherence to Clinical Standards Score'] == 0).sum()"
   ]
  },
  {
   "cell_type": "markdown",
   "metadata": {},
   "source": [
    "# Evaluate instruction with example (20)"
   ]
  },
  {
   "cell_type": "code",
   "execution_count": 320,
   "metadata": {},
   "outputs": [
    {
     "name": "stdout",
     "output_type": "stream",
     "text": [
      "       Patient       Method  Completeness Score  Coherence Score  \\\n",
      "0  Patient # 1  instruction                   4                4   \n",
      "1  Patient # 1  instruction                   4                5   \n",
      "2  Patient # 1  instruction                   4                5   \n",
      "3  Patient # 1  instruction                   3                4   \n",
      "4  Patient # 1  instruction                   4                5   \n",
      "\n",
      "   Adherence to Clinical Standards Score  Compassion Score  Total Score  \n",
      "0                                      0                 3           11  \n",
      "1                                      0                 4           13  \n",
      "2                                      0                 4           13  \n",
      "3                                      0                 3           10  \n",
      "4                                      0                 3           12  \n"
     ]
    }
   ],
   "source": [
    "os.makedirs('evaluations', exist_ok=True)\n",
    "evaluations = []\n",
    "for i in range(1, 5):\n",
    "    for j in range (1, 6):\n",
    "        filepath = f'data_{i}_instruction_example_{j}.json'\n",
    "        patient_number, method, data_dict = generate_evaluation(filepath)\n",
    "\n",
    "       \n",
    "        output = f'evaluations/data_{i}_instruction_example_{j}.json'\n",
    "        with open(output, 'w', encoding='utf-8') as json_file:\n",
    "            json.dump(data_dict, json_file, indent=4)\n",
    "\n",
    "        Completeness_score = int(data_dict.get('Completeness', {}).get('score', 0)) \n",
    "        Coherence_score = int(data_dict.get('Coherence', {}).get('score', 0)) \n",
    "        Adherence_score = int(data_dict.get('Adherence', {}).get('score', 0)) \n",
    "        Compassion_score = int(data_dict.get('Compassion', {}).get('score', 0))\n",
    "\n",
    "        Total_score = Completeness_score + Coherence_score + Adherence_score + Compassion_score\n",
    "\n",
    "        \n",
    "              \n",
    "        evaluations.append((\n",
    "            patient_number, \n",
    "            method, \n",
    "            Completeness_score, \n",
    "            Coherence_score,\n",
    "            Adherence_score,\n",
    "            Compassion_score, \n",
    "            Total_score ))\n",
    "        #with open(output, 'w') as outfile:\n",
    "        \n",
    "\n",
    "\n",
    "df_ie = pd.DataFrame(evaluations, columns=['Patient', 'Method' ,'Completeness Score', 'Coherence Score', 'Adherence to Clinical Standards Score', 'Compassion Score', 'Total Score'])\n",
    "df_ie.dropna(subset=['Patient', 'Method'], inplace=True)\n",
    "\n",
    "print(df_ie.head())"
   ]
  },
  {
   "cell_type": "markdown",
   "metadata": {},
   "source": [
    "# Combing the dataframes into one"
   ]
  },
  {
   "cell_type": "code",
   "execution_count": 321,
   "metadata": {},
   "outputs": [],
   "source": [
    "complete_df = pd.concat([df_b, df_i, df_ie], ignore_index=True)\n",
    "complete_df.to_csv('evaluations/complete_df.csv', index=False)"
   ]
  }
 ],
 "metadata": {
  "kernelspec": {
   "display_name": "base",
   "language": "python",
   "name": "python3"
  },
  "language_info": {
   "codemirror_mode": {
    "name": "ipython",
    "version": 3
   },
   "file_extension": ".py",
   "mimetype": "text/x-python",
   "name": "python",
   "nbconvert_exporter": "python",
   "pygments_lexer": "ipython3",
   "version": "3.12.7"
  }
 },
 "nbformat": 4,
 "nbformat_minor": 2
}
