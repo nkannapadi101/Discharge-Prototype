{
 "cells": [
  {
   "cell_type": "code",
   "execution_count": 1,
   "metadata": {
    "colab": {
     "base_uri": "https://localhost:8080/"
    },
    "executionInfo": {
     "elapsed": 832,
     "status": "ok",
     "timestamp": 1708233075851,
     "user": {
      "displayName": "Winn Leelamanthep",
      "userId": "08251602080468069325"
     },
     "user_tz": 300
    },
    "id": "RI2VSH6HaKF-",
    "outputId": "006cd143-82df-4aef-dfca-5af220f4f9e0"
   },
   "outputs": [],
   "source": [
    "import json\n",
    "import logging\n",
    "import os\n",
    "\n",
    "import openai\n",
    "from openai import OpenAI\n",
    "from tqdm import tqdm"
   ]
  },
  {
   "cell_type": "code",
   "execution_count": 2,
   "metadata": {},
   "outputs": [],
   "source": [
    "logging.basicConfig(filename='experiments.log',\n",
    "                    filemode='w',\n",
    "                    level=logging.INFO,\n",
    "                    format='%(message)s')"
   ]
  },
  {
   "cell_type": "markdown",
   "metadata": {
    "id": "YMgRdrpVXAgx"
   },
   "source": [
    "# Set up OpenAI"
   ]
  },
  {
   "cell_type": "code",
   "execution_count": 3,
   "metadata": {
    "id": "WzK0JyP6XbZK"
   },
   "outputs": [],
   "source": [
    "# You should not store API keys in a google drive folder - it is not secure. If using github, add credentials.json to .gitignore.\n",
    "\n",
    "credentials_path = 'credentials.json'\n",
    "\n",
    "with open(credentials_path, 'r') as file:\n",
    "    credentials = json.load(file)\n",
    "\n",
    "openai_api_key = credentials['openai_api_key']\n",
    "base_url = credentials['base_url']"
   ]
  },
  {
   "cell_type": "markdown",
   "metadata": {
    "id": "eOMsxxnLadMZ"
   },
   "source": [
    "# Prompts"
   ]
  },
  {
   "cell_type": "code",
   "execution_count": 4,
   "metadata": {},
   "outputs": [],
   "source": [
    "def generate_letter(filepath: str, system_prompt: str, user_prompt: str):\n",
    "    data = clean_data(filepath)\n",
    "    user_prompt = f\"\"\"\\\n",
    "{user_prompt}\n",
    "Now, write a discharge summary letter only using the patient's EHR data provided in the following context:\n",
    "{data}\"\"\"\n",
    "\n",
    "    client = OpenAI(api_key=openai_api_key, base_url=base_url)\n",
    "    completion = client.chat.completions.create(\n",
    "        model=\"gpt-4o\",\n",
    "        messages=[\n",
    "            {\"role\": \"system\", \"content\": system_prompt},\n",
    "            {\"role\": \"user\", \"content\": user_prompt},\n",
    "        ],\n",
    "    )\n",
    "    response = completion.choices[0].message.content\n",
    "\n",
    "    logging.info(f'<data>\\n{filepath}\\n</data>')\n",
    "    logging.info(f'<system>\\n{system_prompt}\\n</system>')\n",
    "    logging.info(f'<user>\\n{user_prompt}\\n</user>')\n",
    "    logging.info(f'<assistant>:\\n{response}\\n</assistant>')\n",
    "\n",
    "    return system_prompt, user_prompt, response\n",
    "\n",
    "\n",
    "def clean_data(filepath: str) -> dict:\n",
    "    with open(f'data/{filepath}', 'r') as file:\n",
    "        data = json.load(file)\n",
    "\n",
    "    data.pop('patient_id', None)\n",
    "    data['patient_demographics'].pop('name', None)\n",
    "\n",
    "    return data"
   ]
  },
  {
   "cell_type": "code",
   "execution_count": 5,
   "metadata": {},
   "outputs": [],
   "source": [
    "no_persona = 'You are an assistant for writing discharge summary letters.'\n",
    "\n",
    "baseline_prompt = \"\"\"\\\n",
    "The letter is written to a patient when leaving hospital after a stay for the review. It should be prose and not contain bullet points.\n",
    "Minimize hallucinations.\n",
    "Don't include all private information, such as ID and date of birth. Use ___ to represent names of patients and medical professionals.\\\n",
    "\"\"\""
   ]
  },
  {
   "cell_type": "code",
   "execution_count": 6,
   "metadata": {},
   "outputs": [],
   "source": [
    "persona = \"You are a resident physician tasked with writing a discharge summary letter of a patient from the patient's Electronic Health Records.\"\n",
    "\n",
    "instruction_prompt = \"\"\"\\\n",
    "The letter is written to a patient when leaving hospital after a stay for the review. It should be prose and not contain bullet points.\n",
    "Include summary of stay including, if applicable, key issues, interventions, procedures, and treatments.\n",
    "Include summary of condition at discharge.\n",
    "Include recommendations for follow-up plans and ongoing treatment.\n",
    "Write the text in the style of a discharge letter using medical terminology. Proceed chronologically, write factually, objectively and concretely, formally, professionally, politely, respectfully. Avoid generalizations, assumptions, verbose and cumbersome formulations, and redundancy. Do not invent or presume anything. Generally, formulate in the imperfect tense, reported speech from individuals (e.g., from patients) in subjunctive I, and medical assessments and diagnoses in the present tense.\n",
    "Minimize hallucinations. Do not generate recommendations on your own or add anything. Write nothing about topics for which there is no information basis from the EHR.\n",
    "Don't include all private information, such as ID and date of birth. Use ___ to represent names of patients and medical professionals.\\\n",
    "\"\"\""
   ]
  },
  {
   "cell_type": "code",
   "execution_count": 7,
   "metadata": {},
   "outputs": [],
   "source": [
    "example = \"\"\"\\n\n",
    "This is an example of discharge summary letter:\n",
    "Dear ___,\n",
    "\n",
    "You came into hospital because you were getting more short of breath and your ankles were swollen.\n",
    "\n",
    "A heart scan, called an echocardiogram, showed that your heart was not pumping as well as it should.\n",
    "\n",
    "We started you on water tablets called Furosemide. They will stop fluid collecting in your legs and lungs.\n",
    "\n",
    "Please take 2 Furosemide tablets (2 x 40 mg = 80 mg) each morning and weigh yourself each morning.\n",
    "\n",
    "If your weight drops by more than 2 kg over the week, reduce the dose to 1 tablet per day.\n",
    "\n",
    "We have asked your GP practice to see you in about 2 weeks' time. They will take a blood test to check your kidney function.\n",
    "\n",
    "We will see you in 6 weeks' time in the Cardiology Outpatient Clinic.\n",
    "\n",
    "You will receive an appointment letter in the post.\n",
    "\n",
    "Sincerely,\n",
    "____\n",
    "\"\"\""
   ]
  },
  {
   "cell_type": "markdown",
   "metadata": {},
   "source": [
    "# Experiments"
   ]
  },
  {
   "cell_type": "code",
   "execution_count": 8,
   "metadata": {},
   "outputs": [
    {
     "name": "stderr",
     "output_type": "stream",
     "text": [
      "100%|██████████| 5/5 [00:45<00:00,  9.15s/it]\n",
      "100%|██████████| 5/5 [01:09<00:00, 13.83s/it]\n",
      "100%|██████████| 5/5 [00:47<00:00,  9.49s/it]\n",
      "100%|██████████| 5/5 [00:50<00:00, 10.01s/it]\n",
      "100%|██████████| 5/5 [01:16<00:00, 15.26s/it]\n",
      "100%|██████████| 5/5 [00:57<00:00, 11.54s/it]\n",
      "100%|██████████| 5/5 [00:38<00:00,  7.70s/it]\n",
      "100%|██████████| 5/5 [00:48<00:00,  9.75s/it]\n",
      "100%|██████████| 5/5 [00:46<00:00,  9.40s/it]\n",
      "100%|██████████| 5/5 [00:46<00:00,  9.27s/it]\n",
      "100%|██████████| 5/5 [00:45<00:00,  9.13s/it]\n",
      "100%|██████████| 5/5 [00:35<00:00,  7.14s/it]\n"
     ]
    }
   ],
   "source": [
    "configs = {\n",
    "    'baseline': (no_persona, baseline_prompt),\n",
    "    'instruction': (persona, instruction_prompt),\n",
    "    'instruction_example': (persona, instruction_prompt + example),\n",
    "}\n",
    "\n",
    "for i in range(1, 5):\n",
    "    filepath = f'data_{i}.json'\n",
    "    for prompts in configs:\n",
    "        (system_prompt, user_prompt) = configs[prompts]\n",
    "        for version in tqdm(range(5)):\n",
    "            system_prompt, user_prompt, response = generate_letter(filepath,\n",
    "                                                                   system_prompt,\n",
    "                                                                   user_prompt)\n",
    "            # Write output separately for each version\n",
    "            os.makedirs('experiments', exist_ok=True)\n",
    "            output = f'experiments/data_{i}_{prompts}_{version+1}.json'\n",
    "            with open(output, 'w') as file:\n",
    "                json.dump({\n",
    "                    'system': system_prompt,\n",
    "                    'user': user_prompt,\n",
    "                    'assistant': response\n",
    "                }, file, indent=2)"
   ]
  },
  {
   "cell_type": "code",
   "execution_count": null,
   "metadata": {},
   "outputs": [],
   "source": []
  }
 ],
 "metadata": {
  "colab": {
   "provenance": []
  },
  "kernelspec": {
   "display_name": "nlp",
   "language": "python",
   "name": "python3"
  },
  "language_info": {
   "codemirror_mode": {
    "name": "ipython",
    "version": 3
   },
   "file_extension": ".py",
   "mimetype": "text/x-python",
   "name": "python",
   "nbconvert_exporter": "python",
   "pygments_lexer": "ipython3",
   "version": "3.9.19"
  }
 },
 "nbformat": 4,
 "nbformat_minor": 0
}
